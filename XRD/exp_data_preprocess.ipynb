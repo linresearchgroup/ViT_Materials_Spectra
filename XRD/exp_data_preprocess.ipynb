{
 "cells": [
  {
   "cell_type": "code",
   "execution_count": null,
   "id": "scheduled-cardiff",
   "metadata": {},
   "outputs": [],
   "source": [
    "..."
   ]
  },
  {
   "cell_type": "markdown",
   "id": "subtle-while",
   "metadata": {},
   "source": [
    "# Find Peak and reduce noise"
   ]
  },
  {
   "cell_type": "code",
   "execution_count": 16,
   "id": "brutal-pressing",
   "metadata": {},
   "outputs": [],
   "source": [
    "from scipy.signal import find_peaks\n",
    "\n",
    "def exp_data_processing (data,minn,maxn,window):\n",
    "    (w1,len1) = np.shape(data)\n",
    "    nexp1 =np.zeros([w1,maxn-minn])\n",
    "    print(\"w1=\",w1)\n",
    "    for i in range(w1):\n",
    "        print(\"line:\",i)\n",
    "        #savgol_filter to smooth the data\n",
    "        new1 = savgol_filter(data[i,minn:maxn], 21, 3)\n",
    "        #print(new1)\n",
    "        #peak finding\n",
    "        #zf= find_peaks_cwt(new1, np.arange(10,15), noise_perc=0.01)\n",
    "        zf,_=find_peaks(new1, prominence=0.5,width=1) \n",
    "        print(zf)\n",
    "         #background substraction\n",
    "        temp=np.zeros(maxn-minn) \n",
    "        for j in range(len(zf)-1):\n",
    "            zf_start= np.maximum(0,zf[j+1]-window//2)\n",
    "            zf_end = np.minimum(zf[j+1]+window//2,maxn)\n",
    "            #print(\"j peak\",(j,zf_start,zf_end))\n",
    "            peak = new1[zf_start:zf_end]\n",
    "            #print(\"peak\",peak)\n",
    "            #print(\"looking for max:\",np.partition(peak,window//5 )[0:window//5])\n",
    "            #print(\"max:\",max(np.partition(peak,window//5 )[0:window//5]))\n",
    "            ##abritaryly remove 1/4 data\n",
    "            npeak = np.maximum(0,peak-max(np.partition(peak,window//10)[0:window//10]))\n",
    "            \n",
    "            temp[zf_start:zf_end]= npeak\n",
    "            #temp = np.maximum(0,temp-max(np.partition(temp,maxn//3)[0:maxn//3]))\n",
    "            temp = np.maximum(0,temp-max(np.partition(temp,floor(maxn*0.7))[0:floor(maxn*0.7)]))\n",
    "            temp_nor = (temp-min(temp))/(max(temp)-min(temp)+1e-9)\n",
    "            nexp1[i]=temp_nor\n",
    "    return nexp1"
   ]
  },
  {
   "cell_type": "code",
   "execution_count": null,
   "id": "civic-carbon",
   "metadata": {},
   "outputs": [],
   "source": [
    "..."
   ]
  }
 ],
 "metadata": {
  "kernelspec": {
   "display_name": "py37",
   "language": "python",
   "name": "py37"
  },
  "language_info": {
   "codemirror_mode": {
    "name": "ipython",
    "version": 3
   },
   "file_extension": ".py",
   "mimetype": "text/x-python",
   "name": "python",
   "nbconvert_exporter": "python",
   "pygments_lexer": "ipython3",
   "version": "3.7.9"
  }
 },
 "nbformat": 4,
 "nbformat_minor": 5
}
